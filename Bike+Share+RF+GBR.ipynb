{
 "cells": [
  {
   "cell_type": "code",
   "execution_count": null,
   "metadata": {},
   "outputs": [],
   "source": [
    "%matplotlib inline"
   ]
  },
  {
   "cell_type": "code",
   "execution_count": null,
   "metadata": {},
   "outputs": [],
   "source": [
    "#for wider display\n",
    "#from IPython.core.display import display, HTML\n",
    "#display(HTML(\"<style>.container { width:70% !important; }</style>\"))"
   ]
  },
  {
   "cell_type": "code",
   "execution_count": null,
   "metadata": {
    "collapsed": true
   },
   "outputs": [],
   "source": [
    "import pandas as pd\n",
    "import numpy as np\n",
    "from sklearn.ensemble import RandomForestRegressor, GradientBoostingRegressor\n",
    "from pandas.plotting import scatter_matrix"
   ]
  },
  {
   "cell_type": "code",
   "execution_count": null,
   "metadata": {
    "collapsed": true
   },
   "outputs": [],
   "source": [
    "#matplotlib style\n",
    "plt.style.use('fivethirtyeight')"
   ]
  },
  {
   "cell_type": "code",
   "execution_count": null,
   "metadata": {
    "collapsed": true
   },
   "outputs": [],
   "source": [
    "def profit(rental,pred):\n",
    "    return (rental*df.loc['2012', ['cnt',pred]].min(axis=1)-2*df.loc['2012', pred]).sum()"
   ]
  },
  {
   "cell_type": "code",
   "execution_count": null,
   "metadata": {
    "collapsed": true
   },
   "outputs": [],
   "source": [
    "def profit_ratio(rental,pred,):\n",
    "    return (rental*df.loc['2012', ['cnt',pred]].min(axis=1)-2*df.loc['2012', pred]).sum()/(2*df.loc['2012', pred].sum())"
   ]
  },
  {
   "cell_type": "markdown",
   "metadata": {},
   "source": [
    "# Data Selection and Preprocessing\t\n",
    "## Data handling and derived variables\n",
    "Data was import as dataframe and date was used as index.'weekday', 'holiday' and 'temp' were dropped for 'workingday' and 'atemp' contained the same or better infomation.\n",
    "Because some holidays eg. Christmas has longer effect, days around were also changed as holiday. 'disaster' column was add to indicate extreme weather condition such like storm, tornado and hurrican.\n",
    "To reduce the effect of nature outlier, columns of 'casual', 'registered' and 'cnt' were transformed into logarithm as 'casual_log' and 'registered_log'. 'casual_log' and 'registered_log' were used as model target variable and were modeled separately. The predicted values were transformed back to normal and added up as predicted 'cnt'."
   ]
  },
  {
   "cell_type": "code",
   "execution_count": null,
   "metadata": {
    "collapsed": true
   },
   "outputs": [],
   "source": [
    "#read data from day.csv with date as index and drop extra columns\n",
    "df = pd.read_csv('day.csv',index_col='dteday', parse_dates=True).drop(['weekday','holiday','temp'], axis=1) #weekday 可能抛早了\n",
    "df.index.name = 'date'"
   ]
  },
  {
   "cell_type": "code",
   "execution_count": null,
   "metadata": {
    "collapsed": true
   },
   "outputs": [],
   "source": [
    "# tax day\n",
    "df.loc['2011-4-15', \"workingday\"] = 1\n",
    "df.loc['2012-4-16', \"workingday\"] = 1\n",
    "# thanksgiving friday\n",
    "df.loc['2011-11-25', \"workingday\"] = 0\n",
    "df.loc['2012-11-23', \"workingday\"] = 0\n",
    "\n",
    "# Christmas\n",
    "df.loc['2011-12-24':'2011-12-26', \"workingday\"] = 0\n",
    "df.loc['2012-12-24':'2011-12-26', \"workingday\"] = 0\n",
    "\n",
    "df['disaster'] = 0\n",
    "\n",
    "#storms\n",
    "df.loc['2012-5-21', \"workingday\"] = 0\n",
    "df.loc['2012-5-21', \"disaster\"] = 1\n",
    "#tornado\n",
    "df.loc['2012-6-1', \"workingday\"] = 0\n",
    "df.loc['2012-6-1', \"disaster\"] = 1\n",
    "#Hurricane Sandy\n",
    "df.loc['2012-10-29':'2012-10-30', \"workingday\"] = 0\n",
    "df.loc['2012-10-29':'2012-10-30', \"disaster\"] = 1"
   ]
  },
  {
   "cell_type": "code",
   "execution_count": null,
   "metadata": {
    "collapsed": true
   },
   "outputs": [],
   "source": [
    "# add 2 new columns with log to reduce the effect of nature outlier, +1 to avoid -∞ and make all value ≥ 0\n",
    "for col in ['casual', 'registered']:\n",
    "    df['%s_log' % col] = np.log(df[col] + 1)"
   ]
  },
  {
   "cell_type": "code",
   "execution_count": null,
   "metadata": {
    "collapsed": true
   },
   "outputs": [],
   "source": [
    "def predict_on_test_set(model, x_cols):\n",
    "    casual_model = model.fit(train[x_cols], train['casual_log'])\n",
    "    y_pred_cas = casual_model.predict(test[x_cols])\n",
    "    y_pred_cas = np.exp(y_pred_cas) - 1\n",
    "    registered_model = model.fit(train[x_cols], train['registered_log'])\n",
    "    y_pred_reg = registered_model.predict(test[x_cols])\n",
    "    y_pred_reg = np.exp(y_pred_reg) - 1\n",
    "    return y_pred_cas + y_pred_reg"
   ]
  },
  {
   "cell_type": "markdown",
   "metadata": {},
   "source": [
    "##  Model input variables\n",
    "Model input variables were including 'weathersit', 'atemp', 'hum','windspeed', 'workingday', 'season', 'yr','mnth','instant'and 'disaster'. All varibles were treated as numeric data."
   ]
  },
  {
   "cell_type": "code",
   "execution_count": null,
   "metadata": {
    "collapsed": true
   },
   "outputs": [],
   "source": [
    "rf_cols = [\n",
    "    'weathersit', 'atemp', 'hum','windspeed',\n",
    "    'workingday', 'season',  \n",
    "    'yr','mnth','instant',\n",
    "    \"disaster\"\n",
    "    ]"
   ]
  },
  {
   "cell_type": "code",
   "execution_count": null,
   "metadata": {
    "collapsed": true
   },
   "outputs": [],
   "source": [
    "gbm_cols = [\n",
    "    'weathersit', 'atemp', 'hum', 'windspeed',\n",
    "    'workingday', 'season',\n",
    "    'yr','mnth','instant',\n",
    "    \"disaster\"\n",
    "    ]"
   ]
  },
  {
   "cell_type": "code",
   "execution_count": null,
   "metadata": {},
   "outputs": [],
   "source": [
    "df.info()"
   ]
  },
  {
   "cell_type": "markdown",
   "metadata": {},
   "source": [
    "## Test and training set splitting\n",
    "Test set is 'cnt' value for day in 2012. For each day, one model was built to make prediction more accurate. Training set was 12 month rolling window excluding the current day or all the data before the current day."
   ]
  },
  {
   "cell_type": "markdown",
   "metadata": {},
   "source": [
    "# Modeling Building and Testing\n",
    "##  Modeling algorithms\n",
    "Gradient Boosting and Random Forest was used for modeling.\n",
    "For Random Forest the parameters of 'n_estimators': 1000, 'max_depth': 15, 'random_state': 0, 'min_samples_split' : 5, 'n_jobs': -1 were used and take weight of 0.2.\n",
    "For Gradient Boosting the parameters of 'n_estimators': 150, 'max_depth': 5, 'random_state': 0, 'min_samples_leaf' : 10, 'learning_rate': 0.1, 'subsample': 0.7, 'loss': 'ls' were used and take the weight of 0.8."
   ]
  },
  {
   "cell_type": "code",
   "execution_count": null,
   "metadata": {
    "collapsed": true
   },
   "outputs": [],
   "source": [
    "def pred():\n",
    "    rf_model = RandomForestRegressor(**rf_params)\n",
    "    rf_pred = predict_on_test_set(rf_model, rf_cols)\n",
    "    gbm_model = GradientBoostingRegressor(**gbm_params)\n",
    "    gbm_pred = predict_on_test_set(gbm_model, gbm_cols)\n",
    "    y_pred = np.round(0.2*rf_pred + 0.8*gbm_pred)\n",
    "    return y_pred"
   ]
  },
  {
   "cell_type": "code",
   "execution_count": null,
   "metadata": {
    "collapsed": true
   },
   "outputs": [],
   "source": [
    "rf_params = {'n_estimators': 1000, 'max_depth': 15, 'random_state': 0, 'min_samples_split' : 5, 'n_jobs': -1}"
   ]
  },
  {
   "cell_type": "code",
   "execution_count": null,
   "metadata": {
    "collapsed": true
   },
   "outputs": [],
   "source": [
    "gbm_params = {'n_estimators': 150, 'max_depth': 5, 'random_state': 0, 'min_samples_leaf' : 10, 'learning_rate': 0.1, 'subsample': 0.7, 'loss': 'ls'}\n"
   ]
  },
  {
   "cell_type": "code",
   "execution_count": null,
   "metadata": {},
   "outputs": [],
   "source": [
    "#1 year rolling\n",
    "test_slicing = pd.to_datetime('2012-1-1')\n",
    "for n in range(366):\n",
    "    if n == 0:\n",
    "        train = df['2011-1-1':'2011-12-30']\n",
    "    else:\n",
    "        train = df.loc[pd.to_datetime('2011-1-1')+pd.DateOffset(days= n-1):pd.to_datetime('2012-1-1')+pd.DateOffset(days= n -2)]\n",
    "    test = df.loc[[test_slicing+pd.DateOffset(days=n)],:]\n",
    "    df.loc[test_slicing+pd.DateOffset(days=n),'pred_cnt_rolling_1year'] = pred()[0]\n",
    "    "
   ]
  },
  {
   "cell_type": "code",
   "execution_count": null,
   "metadata": {
    "collapsed": true
   },
   "outputs": [],
   "source": [
    "rentals = pd.Series([3,8,2.2])"
   ]
  },
  {
   "cell_type": "code",
   "execution_count": null,
   "metadata": {},
   "outputs": [],
   "source": [
    "profit_rolling_1year = rentals.apply(profit, args=('pred_cnt_rolling_1year',))\n",
    "profit_ratio_rolling_1year = rentals.apply(profit_ratio, args=('pred_cnt_rolling_1year',))"
   ]
  },
  {
   "cell_type": "code",
   "execution_count": null,
   "metadata": {},
   "outputs": [],
   "source": [
    "#all data rolling\n",
    "test_slicing = pd.to_datetime('2012-1-1')\n",
    "for n in range(366):\n",
    "    train = df.loc[pd.to_datetime('2011-1-1'):pd.to_datetime('2012-1-1')+pd.DateOffset(days= n -2)]\n",
    "    test = df.loc[[test_slicing+pd.DateOffset(days=n)],:]\n",
    "    df.loc[test_slicing+pd.DateOffset(days=n),'pred_cnt_rolling_all'] = pred()[0]"
   ]
  },
  {
   "cell_type": "code",
   "execution_count": null,
   "metadata": {
    "collapsed": true
   },
   "outputs": [],
   "source": [
    "profit_rolling_all = rentals.apply(profit, args=('pred_cnt_rolling_all',))\n",
    "profit_ratio_rolling_all = rentals.apply(profit_ratio, args=('pred_cnt_rolling_all',))"
   ]
  },
  {
   "cell_type": "code",
   "execution_count": null,
   "metadata": {
    "collapsed": true
   },
   "outputs": [],
   "source": [
    "df.to_csv('predictions.csv')"
   ]
  },
  {
   "cell_type": "markdown",
   "metadata": {},
   "source": [
    "## Testing\n",
    "这里不太清楚是分别test还是ensemble后的模型"
   ]
  },
  {
   "cell_type": "markdown",
   "metadata": {},
   "source": [
    "# Business\tPerformance"
   ]
  },
  {
   "cell_type": "code",
   "execution_count": null,
   "metadata": {
    "collapsed": true
   },
   "outputs": [],
   "source": [
    "#2011\n",
    "train = df['2011']\n",
    "test = df['2012']\n",
    "df.loc['2012','pred_cnt_with_2011'] = pred()"
   ]
  },
  {
   "cell_type": "code",
   "execution_count": null,
   "metadata": {},
   "outputs": [],
   "source": [
    "profit_with_2011 = rentals.apply(profit, args=('pred_cnt_with_2011',))\n",
    "profit_ratio_with_2011 = rentals.apply(profit_ratio, args=('pred_cnt_with_2011',))"
   ]
  },
  {
   "cell_type": "code",
   "execution_count": null,
   "metadata": {},
   "outputs": [],
   "source": [
    "#perfect\n",
    "profit_perfect = rentals.apply(profit, args=('cnt',))\n",
    "profit_ratio_perfect = rentals.apply(profit_ratio, args=('cnt',))"
   ]
  },
  {
   "cell_type": "code",
   "execution_count": null,
   "metadata": {
    "collapsed": true
   },
   "outputs": [],
   "source": [
    "#default\n",
    "df.loc['2012-1-1':'2012-12-31','pred_cnt_default'] = np.array(df.loc['2011-12-30':'2012-12-29','cnt'])"
   ]
  },
  {
   "cell_type": "code",
   "execution_count": null,
   "metadata": {},
   "outputs": [],
   "source": [
    "profit_default = rentals.apply(profit, args=('pred_cnt_default',))\n",
    "profit_ratio_default = rentals.apply(profit_ratio, args=('pred_cnt_default',))"
   ]
  },
  {
   "cell_type": "markdown",
   "metadata": {},
   "source": [
    "##  Profit for 2012\n",
    "Our model had a total profit 1734647 for the year of 2012.  The default prediction had a total profit 1442972 for the year of 2012"
   ]
  },
  {
   "cell_type": "code",
   "execution_count": null,
   "metadata": {
    "collapsed": true
   },
   "outputs": [],
   "source": [
    "profit = pd.DataFrame({'perfect':profit_perfect,'1year rolling':profit_rolling_1year, 'all before':profit_rolling_all, '2011 only':profit_with_2011, 'defaut':profit_default})"
   ]
  },
  {
   "cell_type": "code",
   "execution_count": null,
   "metadata": {
    "collapsed": true
   },
   "outputs": [],
   "source": [
    "profit.index = rentals"
   ]
  },
  {
   "cell_type": "code",
   "execution_count": null,
   "metadata": {},
   "outputs": [],
   "source": [
    "profit"
   ]
  },
  {
   "cell_type": "code",
   "execution_count": null,
   "metadata": {},
   "outputs": [],
   "source": [
    "#sub default\n",
    "sub_with_default = profit.sub(profit['defaut'], axis=0)\n",
    "sub_with_default"
   ]
  },
  {
   "cell_type": "code",
   "execution_count": null,
   "metadata": {},
   "outputs": [],
   "source": [
    "#div perfect\n",
    "div_with_default = profit.div(profit['perfect'], axis=0)\n",
    "div_with_default"
   ]
  },
  {
   "cell_type": "markdown",
   "metadata": {},
   "source": [
    "## Profit expressed as a percentage of total expenditure\n",
    "Our model has the profit/cost ratio of 0.4436 for the year of 2012. The default prediction has the profit/cost ratio of 0.3519 for the year of 2012"
   ]
  },
  {
   "cell_type": "code",
   "execution_count": null,
   "metadata": {
    "collapsed": true
   },
   "outputs": [],
   "source": [
    "profit_ratio = pd.DataFrame({'perfect':profit_ratio_perfect,'1year':profit_ratio_rolling_1year, 'all before':profit_ratio_rolling_all, '2011 only':profit_ratio_with_2011, 'defaut':profit_ratio_default})\n",
    "profit_ratio.index = rentals"
   ]
  },
  {
   "cell_type": "code",
   "execution_count": null,
   "metadata": {},
   "outputs": [],
   "source": [
    "profit_ratio"
   ]
  },
  {
   "cell_type": "markdown",
   "metadata": {},
   "source": [
    "## Performance with rental variation\n",
    "Our prediction model is always better than the default model. "
   ]
  },
  {
   "cell_type": "markdown",
   "metadata": {},
   "source": [
    "## Performance with season or other variation\n",
    "model performance correlated with season, month and working days"
   ]
  },
  {
   "cell_type": "code",
   "execution_count": null,
   "metadata": {},
   "outputs": [],
   "source": [
    "def profit_perfect_ratio(df, pred,rental):\n",
    "    return (rental*df.loc[:, ['cnt',pred]].min(axis=1)-2*df.loc[:, pred]).sum()/((rental-2)*df.loc[:, pred].sum())"
   ]
  },
  {
   "cell_type": "code",
   "execution_count": null,
   "metadata": {},
   "outputs": [],
   "source": [
    "df.loc['2012',['season','cnt','pred_cnt_rolling_1year']].groupby('season').apply(profit_perfect_ratio,pred = 'pred_cnt_rolling_1year',rental = 3)"
   ]
  },
  {
   "cell_type": "code",
   "execution_count": null,
   "metadata": {},
   "outputs": [],
   "source": [
    "df.loc['2012',['mnth','cnt','pred_cnt_rolling_1year']].groupby('mnth').apply(profit_perfect_ratio,pred = 'pred_cnt_rolling_1year',rental = 3)"
   ]
  },
  {
   "cell_type": "code",
   "execution_count": null,
   "metadata": {},
   "outputs": [],
   "source": [
    "df.loc['2012',['workingday','cnt','pred_cnt_rolling_1year']].groupby('workingday').apply(profit_perfect_ratio,pred = 'pred_cnt_rolling_1year',rental = 3)"
   ]
  },
  {
   "cell_type": "markdown",
   "metadata": {},
   "source": [
    "## Performance with age variation\n",
    "Our model performance did not decreases with the age of the model. 年底的可能是圣诞新年长假影响。10月份的应该是Hurricane Sandy。"
   ]
  },
  {
   "cell_type": "code",
   "execution_count": null,
   "metadata": {},
   "outputs": [],
   "source": [
    "df2 = df.loc['2012',['cnt','pred_cnt_rolling_1year']]\n",
    "df2['weekofyear'] = df2.index.weekofyear\n",
    "df2.groupby('weekofyear').apply(profit_perfect_ratio,pred = 'pred_cnt_rolling_1year',rental = 3).plot()"
   ]
  },
  {
   "cell_type": "markdown",
   "metadata": {},
   "source": [
    "## Performance with train set variation\n",
    "The model generated from the 18month training set (Jan’11 to Jun’12) give higher profit than the model built from the 12month training set when tested on the test period Jul’12 to Dec’12(905824.0, 898264.0). Although the difference is relative small."
   ]
  },
  {
   "cell_type": "code",
   "execution_count": null,
   "metadata": {
    "collapsed": true
   },
   "outputs": [],
   "source": [
    "#train with 18m (2011-1 - 2012-6)\n",
    "train = df['2011-1':'2012-6']\n",
    "test = df['2012-7':'2012-12']\n",
    "df.loc['2012-7':'2012-12','pred_cnt_with_18m'] = pred()"
   ]
  },
  {
   "cell_type": "code",
   "execution_count": null,
   "metadata": {},
   "outputs": [],
   "source": [
    "profit_with_18m_in_6m = (3*df.loc['2012-7-1':'2012-12-31', ['cnt','pred_cnt_with_18m']].min(axis=1)-2*df['pred_cnt_with_18m']).sum()\n",
    "profit_with_18m_in_6m"
   ]
  },
  {
   "cell_type": "code",
   "execution_count": null,
   "metadata": {
    "collapsed": true
   },
   "outputs": [],
   "source": [
    "#train with 12m (2011-7-1 - 2012-6-30)\n",
    "train = df['2011-7':'2012-6']\n",
    "test = df['2012-7':'2012-12']\n",
    "df.loc['2012-7':'2012-12','pred_cnt_with_12m'] = pred()"
   ]
  },
  {
   "cell_type": "code",
   "execution_count": null,
   "metadata": {},
   "outputs": [],
   "source": [
    "profit_with_12m_in_6m = (3*df.loc['2012-7':'2012-12', ['cnt','pred_cnt_with_12m']].min(axis=1)-2*df['pred_cnt_with_12m']).sum()\n",
    "profit_with_12m_in_6m"
   ]
  },
  {
   "cell_type": "markdown",
   "metadata": {
    "collapsed": true
   },
   "source": [
    "## Performance with balancing data\n",
    "After balancing the data, the evidence that gave higher performance could be seen (1033056.2 vs 905824.0)."
   ]
  },
  {
   "cell_type": "code",
   "execution_count": null,
   "metadata": {},
   "outputs": [],
   "source": [
    "#train with 18m (2011-1 - 2012-6) wtih down sampling\n",
    "n=20\n",
    "pred_cnt_with_18m_wtih_down_sampling = np.zeros(n)\n",
    "for i in range(n):\n",
    "    train = pd.concat([pd.concat([df['2011-1':'2011-6'],df['2012-1':'2012-6']]).sample(frac=(365-184)/363),df['2012-7':'2012-12']])\n",
    "    test = df['2012-7':'2012-12']\n",
    "    df.loc['2012-7':'2012-12','pred_cnt_with_18m_wtih_down_sampling'] = pred()\n",
    "    pred_cnt_with_18m_wtih_down_sampling[i] = (3*df.loc['2012-7-1':'2012-12-31', ['cnt','pred_cnt_with_18m_wtih_down_sampling']].min(axis=1)-2*df['pred_cnt_with_18m_wtih_down_sampling']).sum()"
   ]
  },
  {
   "cell_type": "code",
   "execution_count": null,
   "metadata": {},
   "outputs": [],
   "source": [
    "pred_cnt_with_18m_wtih_down_sampling"
   ]
  },
  {
   "cell_type": "code",
   "execution_count": null,
   "metadata": {},
   "outputs": [],
   "source": [
    "pred_cnt_with_18m_wtih_down_sampling.mean()\n"
   ]
  }
 ],
 "metadata": {
  "kernelspec": {
   "display_name": "Python 3",
   "language": "python",
   "name": "python3"
  },
  "language_info": {
   "codemirror_mode": {
    "name": "ipython",
    "version": 3
   },
   "file_extension": ".py",
   "mimetype": "text/x-python",
   "name": "python",
   "nbconvert_exporter": "python",
   "pygments_lexer": "ipython3",
   "version": "3.6.2"
  }
 },
 "nbformat": 4,
 "nbformat_minor": 1
}
