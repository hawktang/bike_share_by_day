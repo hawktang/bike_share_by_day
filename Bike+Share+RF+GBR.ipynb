{
 "cells": [
  {
   "cell_type": "markdown",
   "metadata": {},
   "source": [
    "# Test/Train split with year not working well for the share increase over year"
   ]
  },
  {
   "cell_type": "code",
   "execution_count": null,
   "metadata": {},
   "outputs": [],
   "source": [
    "%pylab inline"
   ]
  },
  {
   "cell_type": "code",
   "execution_count": null,
   "metadata": {
    "collapsed": true
   },
   "outputs": [],
   "source": [
    "import pandas as pd\n",
    "import numpy as np\n",
    "from sklearn.ensemble import RandomForestRegressor, GradientBoostingRegressor\n",
    "import matplotlib.pyplot as plt"
   ]
  },
  {
   "cell_type": "code",
   "execution_count": null,
   "metadata": {
    "collapsed": true
   },
   "outputs": [],
   "source": [
    "plt.style.use('fivethirtyeight')"
   ]
  },
  {
   "cell_type": "code",
   "execution_count": null,
   "metadata": {
    "collapsed": true
   },
   "outputs": [],
   "source": [
    "df = pd.read_csv('day.csv',index_col='dteday', parse_dates=True)"
   ]
  },
  {
   "cell_type": "code",
   "execution_count": null,
   "metadata": {
    "collapsed": true
   },
   "outputs": [],
   "source": [
    "# logarithmic transformation of dependent cols\n",
    "# (adding 1 first so that 0 values don't become -inf)\n",
    "for col in ['casual', 'registered', 'cnt']:\n",
    "    df['%s_log' % col] = np.log(df[col] + 1)"
   ]
  },
  {
   "cell_type": "code",
   "execution_count": null,
   "metadata": {
    "collapsed": true
   },
   "outputs": [],
   "source": [
    "#df['date'] = df.index.date\n",
    "#df['yr'] = df.index.year\n",
    "#df['season'] = df.index.quarter\n",
    "#df['mnth'] = df.index.month\n",
    "df['day'] = df.index.day\n",
    "#df['weekday'] = df.index.dayofweek\n",
    "df['weekofyear'] = df.index.weekofyear\n",
    "\n"
   ]
  },
  {
   "cell_type": "code",
   "execution_count": null,
   "metadata": {
    "collapsed": true
   },
   "outputs": [],
   "source": [
    "train_slicing = '2011'\n",
    "test_slicing = '2012'\n",
    "\n",
    "train = df[train_slicing]\n",
    "test = df[test_slicing]"
   ]
  },
  {
   "cell_type": "code",
   "execution_count": null,
   "metadata": {},
   "outputs": [],
   "source": [
    "by_season = train['cnt'].resample('Q').sum().plot(kind='barh')"
   ]
  },
  {
   "cell_type": "code",
   "execution_count": null,
   "metadata": {
    "scrolled": false
   },
   "outputs": [],
   "source": [
    "by_month = train['cnt'].resample('M').mean().plot(kind='barh')"
   ]
  },
  {
   "cell_type": "code",
   "execution_count": null,
   "metadata": {
    "collapsed": true
   },
   "outputs": [],
   "source": [
    "def get_rmsle(y_pred, y_actual):\n",
    "    diff = np.log(y_pred + 1) - np.log(y_actual + 1)\n",
    "    mean_error = np.square(diff).mean()\n",
    "    return np.sqrt(mean_error)\n",
    "\n",
    "\n",
    "def get_data():\n",
    "    #avoid local variable name and upper leve variable name\n",
    "    data = train\n",
    "    return data\n",
    "\n",
    "\n",
    "def custom_train_test_split(data, cutoff_day=15):\n",
    "    train = data[data['day'] <= cutoff_day]\n",
    "    test = data[data['day'] > cutoff_day]\n",
    "    return train, test\n",
    "\n",
    "def predict_on_validation_set(model, input_cols):\n",
    "    #avoid local variable name and upper leve variable name\n",
    "    data = get_data()\n",
    "\n",
    "    train, test = custom_train_test_split(data)\n",
    "\n",
    "    model_r = model.fit(train[input_cols], train['registered_log'])\n",
    "    y_pred_r = np.exp(model_r.predict(test[input_cols])) - 1\n",
    "\n",
    "    model_c = model.fit(train[input_cols], train['casual_log'])\n",
    "    y_pred_c = np.exp(model_c.predict(test[input_cols])) - 1\n",
    "\n",
    "    y_pred_comb = np.round(y_pred_r + y_pred_c)\n",
    "    y_pred_comb[y_pred_comb < 0] = 0\n",
    "\n",
    "    y_test_comb = test['cnt']\n",
    "\n",
    "    score = get_rmsle(y_pred_comb, y_test_comb)\n",
    "    return (y_pred_comb, y_test_comb, score)\n",
    "\n",
    "# predict on test set & transform output back from log scale\n",
    "def predict_on_test_set(model, x_cols):\n",
    "    casual_model = model.fit(train[x_cols], train['casual_log'])\n",
    "    y_pred_cas = casual_model.predict(test[x_cols])\n",
    "    y_pred_cas = np.exp(y_pred_cas) - 1\n",
    "    registered_model = model.fit(train[x_cols], train['registered_log'])\n",
    "    y_pred_reg = registered_model.predict(test[x_cols])\n",
    "    y_pred_reg = np.exp(y_pred_reg) - 1\n",
    "    # add casual & registered predictions together\n",
    "    return y_pred_cas + y_pred_reg"
   ]
  },
  {
   "cell_type": "code",
   "execution_count": null,
   "metadata": {},
   "outputs": [],
   "source": [
    "params = {'n_estimators': 1000, 'max_depth': 15, 'random_state': 0, 'min_samples_split' : 5, 'n_jobs': -1}\n",
    "rf_model = RandomForestRegressor(**params)\n",
    "rf_cols = [\n",
    "    'weathersit', 'temp', 'atemp', 'windspeed',\n",
    "    'workingday', 'season', 'holiday', \n",
    "     'weekday', 'weekofyear'\n",
    "    #,'peak','sticky','hour',\n",
    "    ]\n",
    "\n",
    "(rf_p, rf_t, rf_score) = predict_on_validation_set(rf_model, rf_cols)\n",
    "print (rf_score)"
   ]
  },
  {
   "cell_type": "code",
   "execution_count": null,
   "metadata": {},
   "outputs": [],
   "source": [
    "df[rf_cols].corr()"
   ]
  },
  {
   "cell_type": "code",
   "execution_count": null,
   "metadata": {},
   "outputs": [],
   "source": [
    "params = {'n_estimators': 150, 'max_depth': 5, 'random_state': 0, 'min_samples_leaf' : 10, 'learning_rate': 0.1, 'subsample': 0.7, 'loss': 'ls'}\n",
    "gbm_model = GradientBoostingRegressor(**params)\n",
    "gbm_cols = [\n",
    "    'weathersit', 'temp', 'atemp', 'hum', 'windspeed',\n",
    "    'holiday', 'workingday', 'season',\n",
    "     'weekday'\n",
    "    #, 'ideal', 'count_season','hour','yr'\n",
    "]\n",
    "\n",
    "(gbm_p, gbm_t, gbm_score) = predict_on_validation_set(gbm_model, gbm_cols)\n",
    "print (gbm_score)"
   ]
  },
  {
   "cell_type": "code",
   "execution_count": null,
   "metadata": {},
   "outputs": [],
   "source": [
    "df[gbm_cols].corr()"
   ]
  },
  {
   "cell_type": "code",
   "execution_count": null,
   "metadata": {},
   "outputs": [],
   "source": [
    "# the blend gives a better score on the leaderboard, even though it does not on the validation set\n",
    "y_p = np.round(.2*rf_p + .8*gbm_p)\n",
    "print (get_rmsle(y_p, rf_t))"
   ]
  },
  {
   "cell_type": "code",
   "execution_count": null,
   "metadata": {
    "collapsed": true
   },
   "outputs": [],
   "source": [
    "pd.options.mode.chained_assignment = None\n",
    "rf_pred = predict_on_test_set(rf_model, rf_cols)\n",
    "gbm_pred = predict_on_test_set(gbm_model, gbm_cols)\n",
    "y_pred = np.round(0.2*rf_pred + 0.8*gbm_pred)\n",
    "# output predictions for submission\n",
    "test['pred_cnt'] = y_pred\n",
    "reslut = test[['cnt','pred_cnt']]\n",
    "#test.to_csv('submit.csv', index=True)"
   ]
  },
  {
   "cell_type": "code",
   "execution_count": null,
   "metadata": {},
   "outputs": [],
   "source": [
    "reslut"
   ]
  }
 ],
 "metadata": {
  "kernelspec": {
   "display_name": "Python 3",
   "language": "python",
   "name": "python3"
  },
  "language_info": {
   "codemirror_mode": {
    "name": "ipython",
    "version": 3
   },
   "file_extension": ".py",
   "mimetype": "text/x-python",
   "name": "python",
   "nbconvert_exporter": "python",
   "pygments_lexer": "ipython3",
   "version": "3.6.2"
  }
 },
 "nbformat": 4,
 "nbformat_minor": 1
}
